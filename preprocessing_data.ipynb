{
  "nbformat": 4,
  "nbformat_minor": 0,
  "metadata": {
    "colab": {
      "provenance": []
    },
    "kernelspec": {
      "name": "python3",
      "display_name": "Python 3"
    },
    "language_info": {
      "name": "python"
    }
  },
  "cells": [
    {
      "cell_type": "markdown",
      "source": [
        "# Data Preprocessing\n",
        "## Graph-based tuning group, CMU/DNAnexus Hackathon 2023"
      ],
      "metadata": {
        "id": "OUBQSVps1iFN"
      }
    },
    {
      "cell_type": "code",
      "execution_count": 12,
      "metadata": {
        "id": "pImQsLdMxTAh"
      },
      "outputs": [],
      "source": [
        "import csv\n",
        "\n",
        "data = []\n",
        "f = open(\"inputdata.txt\", \"w\")\n",
        "\n",
        "with open(\"/content/drive/MyDrive/Others/drug_relationship_target.csv\", \"r\") as csvfile:\n",
        "  spamreader = csv.reader(csvfile, delimiter=',')\n",
        "  first = True # ignore first row header\n",
        "\n",
        "  for row in spamreader:\n",
        "    if not first:\n",
        "      # do not use invalid entries\n",
        "      # drug, relation, target\n",
        "      if row[0] != \"\" and row[1] != \".\" and row[2] != \"\":\n",
        "        # construct prompt\n",
        "        string = \"'<s>[INST] Tell me more about the drug with ID \"\n",
        "        string += row[0]\n",
        "\n",
        "        # construct response\n",
        "        string += \". [/INST] Drug \"\n",
        "        string += row[0]\n",
        "        string += \" is a\"\n",
        "\n",
        "        if row[1][0] == 'A' or row[1][0] == 'E' or row[1][0] == 'I' or row[1][0] == 'O' or row[1][0] == 'U':\n",
        "          string += \"n \"\n",
        "        else:\n",
        "          string += \" \"\n",
        "\n",
        "        string += row[1].lower()\n",
        "        string += \" to target protein \"\n",
        "        string += row[2]\n",
        "        string += \". </s>',\\n\"\n",
        "\n",
        "        data.append(string)\n",
        "        f.write(string)\n",
        "\n",
        "    else:\n",
        "      first = False\n",
        "\n",
        "f.close()"
      ]
    },
    {
      "cell_type": "code",
      "source": [
        "len(data) # number of valid entries"
      ],
      "metadata": {
        "id": "tc79YH_HzqP_",
        "colab": {
          "base_uri": "https://localhost:8080/"
        },
        "outputId": "ec7760f9-ac85-404f-aa7d-612a4bbd9404"
      },
      "execution_count": 13,
      "outputs": [
        {
          "output_type": "execute_result",
          "data": {
            "text/plain": [
              "38617"
            ]
          },
          "metadata": {},
          "execution_count": 13
        }
      ]
    },
    {
      "cell_type": "code",
      "source": [
        "print(data[17]) # sample entry"
      ],
      "metadata": {
        "colab": {
          "base_uri": "https://localhost:8080/"
        },
        "id": "mIWwfC1yvw0m",
        "outputId": "deb2fec7-76ef-4fa4-f557-cc545e9081db"
      },
      "execution_count": 14,
      "outputs": [
        {
          "output_type": "stream",
          "name": "stdout",
          "text": [
            "'<s>[INST] Tell me more about the drug with ID D00WHO. [/INST] Drug D00WHO is an inhibitor to target protein GBRA5_HUMAN. </s>',\n",
            "\n"
          ]
        }
      ]
    },
    {
      "cell_type": "code",
      "source": [],
      "metadata": {
        "id": "ueCX-qLvwWpm"
      },
      "execution_count": null,
      "outputs": []
    }
  ]
}